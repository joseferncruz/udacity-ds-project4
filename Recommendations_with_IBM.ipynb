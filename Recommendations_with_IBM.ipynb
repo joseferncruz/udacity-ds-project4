{
 "cells": [
  {
   "cell_type": "markdown",
   "metadata": {},
   "source": [
    "# Recommendations with IBM Watson Studio \n",
    "---\n",
    "[Udacity Nanodegree in Data Science - Project 4](https://www.udacity.com/course/data-scientist-nanodegree--nd025)\n",
    "\n",
    "\n",
    "In this project, I analyze the interactions that users have with articles on the IBM Watson Studio platform to make recommendations of new articles that might be of their interest.\n",
    "\n",
    "The table of contents outlines the different methods for making recommendations that will be used in this notebook.\n",
    "\n",
    "\n",
    "## Table of Contents\n",
    "\n",
    "I. [Exploratory Data Analysis](#Exploratory-Data-Analysis)<br>\n",
    "II. [Rank Based Recommendations](#Rank)<br>\n",
    "III. [User-User Based Collaborative Filtering](#User-User)<br>\n",
    "IV. [Matrix Factorization](#Matrix-Fact)<br>\n",
    "V. [Conclusions, Actions and Future Directions](#conclusion)<br>"
   ]
  },
  {
   "cell_type": "code",
   "execution_count": 1,
   "metadata": {
    "tags": []
   },
   "outputs": [],
   "source": [
    "# Let's get started by importing the necessary libraries and reading in the data.\n",
    "import pandas as pd\n",
    "import numpy as np\n",
    "import matplotlib.pyplot as plt\n",
    "import sys\n",
    "sys.path.append('./tests')\n",
    "import project_tests as t\n",
    "import pickle\n",
    "from typing import List, Tuple\n",
    "from itertools import permutations\n",
    "from sklearn.metrics import accuracy_score\n",
    "\n",
    "# Read raw data\n",
    "df = pd.read_csv('data/user-item-interactions.csv').drop(columns=['Unnamed: 0'])\n",
    "df_content = pd.read_csv('data/articles_community.csv').drop(columns=['Unnamed: 0'])"
   ]
  },
  {
   "cell_type": "code",
   "execution_count": 2,
   "metadata": {},
   "outputs": [
    {
     "data": {
      "text/html": [
       "<div>\n",
       "<style scoped>\n",
       "    .dataframe tbody tr th:only-of-type {\n",
       "        vertical-align: middle;\n",
       "    }\n",
       "\n",
       "    .dataframe tbody tr th {\n",
       "        vertical-align: top;\n",
       "    }\n",
       "\n",
       "    .dataframe thead th {\n",
       "        text-align: right;\n",
       "    }\n",
       "</style>\n",
       "<table border=\"1\" class=\"dataframe\">\n",
       "  <thead>\n",
       "    <tr style=\"text-align: right;\">\n",
       "      <th></th>\n",
       "      <th>article_id</th>\n",
       "      <th>title</th>\n",
       "      <th>email</th>\n",
       "    </tr>\n",
       "  </thead>\n",
       "  <tbody>\n",
       "    <tr>\n",
       "      <th>0</th>\n",
       "      <td>1430.0</td>\n",
       "      <td>using pixiedust for fast, flexible, and easier...</td>\n",
       "      <td>ef5f11f77ba020cd36e1105a00ab868bbdbf7fe7</td>\n",
       "    </tr>\n",
       "    <tr>\n",
       "      <th>1</th>\n",
       "      <td>1314.0</td>\n",
       "      <td>healthcare python streaming application demo</td>\n",
       "      <td>083cbdfa93c8444beaa4c5f5e0f5f9198e4f9e0b</td>\n",
       "    </tr>\n",
       "    <tr>\n",
       "      <th>2</th>\n",
       "      <td>1429.0</td>\n",
       "      <td>use deep learning for image classification</td>\n",
       "      <td>b96a4f2e92d8572034b1e9b28f9ac673765cd074</td>\n",
       "    </tr>\n",
       "    <tr>\n",
       "      <th>3</th>\n",
       "      <td>1338.0</td>\n",
       "      <td>ml optimization using cognitive assistant</td>\n",
       "      <td>06485706b34a5c9bf2a0ecdac41daf7e7654ceb7</td>\n",
       "    </tr>\n",
       "    <tr>\n",
       "      <th>4</th>\n",
       "      <td>1276.0</td>\n",
       "      <td>deploy your python model as a restful api</td>\n",
       "      <td>f01220c46fc92c6e6b161b1849de11faacd7ccb2</td>\n",
       "    </tr>\n",
       "  </tbody>\n",
       "</table>\n",
       "</div>"
      ],
      "text/plain": [
       "   article_id                                              title  \\\n",
       "0      1430.0  using pixiedust for fast, flexible, and easier...   \n",
       "1      1314.0       healthcare python streaming application demo   \n",
       "2      1429.0         use deep learning for image classification   \n",
       "3      1338.0          ml optimization using cognitive assistant   \n",
       "4      1276.0          deploy your python model as a restful api   \n",
       "\n",
       "                                      email  \n",
       "0  ef5f11f77ba020cd36e1105a00ab868bbdbf7fe7  \n",
       "1  083cbdfa93c8444beaa4c5f5e0f5f9198e4f9e0b  \n",
       "2  b96a4f2e92d8572034b1e9b28f9ac673765cd074  \n",
       "3  06485706b34a5c9bf2a0ecdac41daf7e7654ceb7  \n",
       "4  f01220c46fc92c6e6b161b1849de11faacd7ccb2  "
      ]
     },
     "execution_count": 2,
     "metadata": {},
     "output_type": "execute_result"
    }
   ],
   "source": [
    "# Show df to get an idea of the data\n",
    "df.head()"
   ]
  },
  {
   "cell_type": "code",
   "execution_count": 3,
   "metadata": {},
   "outputs": [
    {
     "name": "stdout",
     "output_type": "stream",
     "text": [
      "<class 'pandas.core.frame.DataFrame'>\n",
      "RangeIndex: 45993 entries, 0 to 45992\n",
      "Data columns (total 3 columns):\n",
      " #   Column      Non-Null Count  Dtype  \n",
      "---  ------      --------------  -----  \n",
      " 0   article_id  45993 non-null  float64\n",
      " 1   title       45993 non-null  object \n",
      " 2   email       45976 non-null  object \n",
      "dtypes: float64(1), object(2)\n",
      "memory usage: 1.1+ MB\n"
     ]
    }
   ],
   "source": [
    "df.info()"
   ]
  },
  {
   "cell_type": "code",
   "execution_count": 4,
   "metadata": {
    "tags": []
   },
   "outputs": [
    {
     "data": {
      "text/html": [
       "<div>\n",
       "<style scoped>\n",
       "    .dataframe tbody tr th:only-of-type {\n",
       "        vertical-align: middle;\n",
       "    }\n",
       "\n",
       "    .dataframe tbody tr th {\n",
       "        vertical-align: top;\n",
       "    }\n",
       "\n",
       "    .dataframe thead th {\n",
       "        text-align: right;\n",
       "    }\n",
       "</style>\n",
       "<table border=\"1\" class=\"dataframe\">\n",
       "  <thead>\n",
       "    <tr style=\"text-align: right;\">\n",
       "      <th></th>\n",
       "      <th>doc_body</th>\n",
       "      <th>doc_description</th>\n",
       "      <th>doc_full_name</th>\n",
       "      <th>doc_status</th>\n",
       "      <th>article_id</th>\n",
       "    </tr>\n",
       "  </thead>\n",
       "  <tbody>\n",
       "    <tr>\n",
       "      <th>0</th>\n",
       "      <td>Skip navigation Sign in SearchLoading...\\r\\n\\r...</td>\n",
       "      <td>Detect bad readings in real time using Python ...</td>\n",
       "      <td>Detect Malfunctioning IoT Sensors with Streami...</td>\n",
       "      <td>Live</td>\n",
       "      <td>0</td>\n",
       "    </tr>\n",
       "    <tr>\n",
       "      <th>1</th>\n",
       "      <td>No Free Hunch Navigation * kaggle.com\\r\\n\\r\\n ...</td>\n",
       "      <td>See the forest, see the trees. Here lies the c...</td>\n",
       "      <td>Communicating data science: A guide to present...</td>\n",
       "      <td>Live</td>\n",
       "      <td>1</td>\n",
       "    </tr>\n",
       "    <tr>\n",
       "      <th>2</th>\n",
       "      <td>☰ * Login\\r\\n * Sign Up\\r\\n\\r\\n * Learning Pat...</td>\n",
       "      <td>Here’s this week’s news in Data Science and Bi...</td>\n",
       "      <td>This Week in Data Science (April 18, 2017)</td>\n",
       "      <td>Live</td>\n",
       "      <td>2</td>\n",
       "    </tr>\n",
       "    <tr>\n",
       "      <th>3</th>\n",
       "      <td>DATALAYER: HIGH THROUGHPUT, LOW LATENCY AT SCA...</td>\n",
       "      <td>Learn how distributed DBs solve the problem of...</td>\n",
       "      <td>DataLayer Conference: Boost the performance of...</td>\n",
       "      <td>Live</td>\n",
       "      <td>3</td>\n",
       "    </tr>\n",
       "    <tr>\n",
       "      <th>4</th>\n",
       "      <td>Skip navigation Sign in SearchLoading...\\r\\n\\r...</td>\n",
       "      <td>This video demonstrates the power of IBM DataS...</td>\n",
       "      <td>Analyze NY Restaurant data using Spark in DSX</td>\n",
       "      <td>Live</td>\n",
       "      <td>4</td>\n",
       "    </tr>\n",
       "  </tbody>\n",
       "</table>\n",
       "</div>"
      ],
      "text/plain": [
       "                                            doc_body  \\\n",
       "0  Skip navigation Sign in SearchLoading...\\r\\n\\r...   \n",
       "1  No Free Hunch Navigation * kaggle.com\\r\\n\\r\\n ...   \n",
       "2  ☰ * Login\\r\\n * Sign Up\\r\\n\\r\\n * Learning Pat...   \n",
       "3  DATALAYER: HIGH THROUGHPUT, LOW LATENCY AT SCA...   \n",
       "4  Skip navigation Sign in SearchLoading...\\r\\n\\r...   \n",
       "\n",
       "                                     doc_description  \\\n",
       "0  Detect bad readings in real time using Python ...   \n",
       "1  See the forest, see the trees. Here lies the c...   \n",
       "2  Here’s this week’s news in Data Science and Bi...   \n",
       "3  Learn how distributed DBs solve the problem of...   \n",
       "4  This video demonstrates the power of IBM DataS...   \n",
       "\n",
       "                                       doc_full_name doc_status  article_id  \n",
       "0  Detect Malfunctioning IoT Sensors with Streami...       Live           0  \n",
       "1  Communicating data science: A guide to present...       Live           1  \n",
       "2         This Week in Data Science (April 18, 2017)       Live           2  \n",
       "3  DataLayer Conference: Boost the performance of...       Live           3  \n",
       "4      Analyze NY Restaurant data using Spark in DSX       Live           4  "
      ]
     },
     "execution_count": 4,
     "metadata": {},
     "output_type": "execute_result"
    }
   ],
   "source": [
    "# Show df_content to get an idea of the data\n",
    "df_content.head()"
   ]
  },
  {
   "cell_type": "code",
   "execution_count": 5,
   "metadata": {},
   "outputs": [
    {
     "name": "stdout",
     "output_type": "stream",
     "text": [
      "<class 'pandas.core.frame.DataFrame'>\n",
      "RangeIndex: 1056 entries, 0 to 1055\n",
      "Data columns (total 5 columns):\n",
      " #   Column           Non-Null Count  Dtype \n",
      "---  ------           --------------  ----- \n",
      " 0   doc_body         1042 non-null   object\n",
      " 1   doc_description  1053 non-null   object\n",
      " 2   doc_full_name    1056 non-null   object\n",
      " 3   doc_status       1056 non-null   object\n",
      " 4   article_id       1056 non-null   int64 \n",
      "dtypes: int64(1), object(4)\n",
      "memory usage: 41.4+ KB\n"
     ]
    }
   ],
   "source": [
    "df_content.info()"
   ]
  },
  {
   "cell_type": "markdown",
   "metadata": {},
   "source": [
    "### <a class=\"anchor\" id=\"Exploratory-Data-Analysis\">Part I : Exploratory Data Analysis</a>\n",
    "---\n",
    "\n",
    "First, let's use some descriptive statistics and basic visualization techniques to understand the data.\n",
    "\n",
    " - What is the distribution of how many articles a user interacts with an article in the dataset?  \n"
   ]
  },
  {
   "cell_type": "code",
   "execution_count": 6,
   "metadata": {},
   "outputs": [],
   "source": [
    "def ECDF(\n",
    "    array: np.array,\n",
    ") -> Tuple[np.array, np.array]:\n",
    "    \"\"\"Empirical Cumulative Distribution Function. \n",
    "    \n",
    "    Parameters\n",
    "    ----------\n",
    "    array : numpy array\n",
    "        Array with datapoints. \n",
    "    \n",
    "    Returns\n",
    "    -------\n",
    "    x : np.array\n",
    "    y : np.array\n",
    "    \n",
    "    \"\"\"\n",
    "    y = np.linspace(0, 1, num=array.size)\n",
    "    x = sorted(array)\n",
    "    \n",
    "    return x, y"
   ]
  },
  {
   "cell_type": "markdown",
   "metadata": {},
   "source": [
    "`1.` Number of Interactions \n",
    "___"
   ]
  },
  {
   "cell_type": "code",
   "execution_count": 7,
   "metadata": {
    "tags": []
   },
   "outputs": [
    {
     "data": {
      "image/png": "[encoded data removed]",
      "text/plain": [
       "<Figure size 1080x360 with 2 Axes>"
      ]
     },
     "metadata": {
      "needs_background": "light"
     },
     "output_type": "display_data"
    }
   ],
   "source": [
    "# get individual interactions \n",
    "n_unique_users = df.email.value_counts().index.size\n",
    "n_interactions_by_user = df.email.value_counts().values\n",
    "\n",
    "fig, axs = plt.subplots(1, 2, figsize=(15, 5))\n",
    "\n",
    "axs[0].hist(\n",
    "    n_interactions_by_user,\n",
    "    bins=100, density=True,\n",
    "    label=f'n_users: {n_unique_users}'\n",
    ")\n",
    "\n",
    "axs[0].set(\n",
    "    ylabel='Density',\n",
    "    xlabel='n_article_interactions'\n",
    ")\n",
    "\n",
    "# plot the ECDF\n",
    "x, y = ECDF(n_interactions_by_user)\n",
    "\n",
    "axs[1].plot(\n",
    "    x,\n",
    "    y,\n",
    "    label=f'n_users: {n_unique_users}'\n",
    ")\n",
    "axs[1].set(\n",
    "    ylabel='ECDF',\n",
    "    xlabel='n_article_interactions'\n",
    ")\n",
    "\n",
    "# Add legend\n",
    "for i in range(2):\n",
    "    axs[i].legend()\n",
    "\n",
    "fig.suptitle('Distribution of user-article interactions')\n",
    "\n",
    "plt.show()"
   ]
  },
  {
   "cell_type": "code",
   "execution_count": 8,
   "metadata": {
    "tags": []
   },
   "outputs": [
    {
     "name": "stdout",
     "output_type": "stream",
     "text": [
      "50% of the users interact with 3.0 articles or fewer.\n",
      "The maximum number of user-article interactions is 364.\n"
     ]
    }
   ],
   "source": [
    "median_val = np.median(n_interactions_by_user)\n",
    "max_views_by_user = np.max(n_interactions_by_user)\n",
    "\n",
    "print(f'50% of the users interact with {median_val} articles or fewer.')\n",
    "print(f'The maximum number of user-article interactions is {max_views_by_user}.')"
   ]
  },
  {
   "cell_type": "markdown",
   "metadata": {},
   "source": [
    "`2.` Explore and remove duplicate articles from the **df_content** dataframe.  "
   ]
  },
  {
   "cell_type": "code",
   "execution_count": 9,
   "metadata": {},
   "outputs": [
    {
     "data": {
      "text/plain": [
       "(1056, 5)"
      ]
     },
     "execution_count": 9,
     "metadata": {},
     "output_type": "execute_result"
    }
   ],
   "source": [
    "# Shape of the dataframe\n",
    "df_content.shape"
   ]
  },
  {
   "cell_type": "code",
   "execution_count": 10,
   "metadata": {
    "tags": []
   },
   "outputs": [
    {
     "name": "stdout",
     "output_type": "stream",
     "text": [
      "The number of duplicate entries is 5 articles.\n"
     ]
    }
   ],
   "source": [
    "# How many duplicate articles exist?\n",
    "n_duplicates_before = df_content.shape[0] - df_content.article_id.unique().size\n",
    "\n",
    "print(f'The number of duplicate entries is {n_duplicates_before} articles.')"
   ]
  },
  {
   "cell_type": "code",
   "execution_count": 11,
   "metadata": {
    "tags": []
   },
   "outputs": [],
   "source": [
    "# Remove any rows that have the same article_id - only keep the first\n",
    "df_content.drop_duplicates('article_id', inplace=True)"
   ]
  },
  {
   "cell_type": "code",
   "execution_count": 12,
   "metadata": {},
   "outputs": [
    {
     "name": "stdout",
     "output_type": "stream",
     "text": [
      "The number of duplicate entries after removal of duplicates is 0 articles.\n"
     ]
    }
   ],
   "source": [
    "n_duplicates_after = df_content.shape[0] - df_content.article_id.unique().size\n",
    "\n",
    "print(f'The number of duplicate entries after removal of duplicates is {n_duplicates_after} articles.')"
   ]
  },
  {
   "cell_type": "markdown",
   "metadata": {},
   "source": [
    "`3.` Other important information about the data:\n",
    "\n",
    "**a.** The number of unique articles that have an interaction with a user.  \n",
    "**b.** The number of unique articles in the dataset (whether they have any interactions or not).<br>\n",
    "**c.** The number of unique users in the dataset. (excluding null values) <br>\n",
    "**d.** The number of user-article interactions in the dataset."
   ]
  },
  {
   "cell_type": "code",
   "execution_count": 13,
   "metadata": {
    "tags": []
   },
   "outputs": [
    {
     "data": {
      "text/html": [
       "<div>\n",
       "<style scoped>\n",
       "    .dataframe tbody tr th:only-of-type {\n",
       "        vertical-align: middle;\n",
       "    }\n",
       "\n",
       "    .dataframe tbody tr th {\n",
       "        vertical-align: top;\n",
       "    }\n",
       "\n",
       "    .dataframe thead th {\n",
       "        text-align: right;\n",
       "    }\n",
       "</style>\n",
       "<table border=\"1\" class=\"dataframe\">\n",
       "  <thead>\n",
       "    <tr style=\"text-align: right;\">\n",
       "      <th></th>\n",
       "      <th>article_id</th>\n",
       "      <th>title</th>\n",
       "      <th>email</th>\n",
       "    </tr>\n",
       "  </thead>\n",
       "  <tbody>\n",
       "    <tr>\n",
       "      <th>0</th>\n",
       "      <td>1430.0</td>\n",
       "      <td>using pixiedust for fast, flexible, and easier...</td>\n",
       "      <td>ef5f11f77ba020cd36e1105a00ab868bbdbf7fe7</td>\n",
       "    </tr>\n",
       "    <tr>\n",
       "      <th>1</th>\n",
       "      <td>1314.0</td>\n",
       "      <td>healthcare python streaming application demo</td>\n",
       "      <td>083cbdfa93c8444beaa4c5f5e0f5f9198e4f9e0b</td>\n",
       "    </tr>\n",
       "    <tr>\n",
       "      <th>2</th>\n",
       "      <td>1429.0</td>\n",
       "      <td>use deep learning for image classification</td>\n",
       "      <td>b96a4f2e92d8572034b1e9b28f9ac673765cd074</td>\n",
       "    </tr>\n",
       "    <tr>\n",
       "      <th>3</th>\n",
       "      <td>1338.0</td>\n",
       "      <td>ml optimization using cognitive assistant</td>\n",
       "      <td>06485706b34a5c9bf2a0ecdac41daf7e7654ceb7</td>\n",
       "    </tr>\n",
       "    <tr>\n",
       "      <th>4</th>\n",
       "      <td>1276.0</td>\n",
       "      <td>deploy your python model as a restful api</td>\n",
       "      <td>f01220c46fc92c6e6b161b1849de11faacd7ccb2</td>\n",
       "    </tr>\n",
       "  </tbody>\n",
       "</table>\n",
       "</div>"
      ],
      "text/plain": [
       "   article_id                                              title  \\\n",
       "0      1430.0  using pixiedust for fast, flexible, and easier...   \n",
       "1      1314.0       healthcare python streaming application demo   \n",
       "2      1429.0         use deep learning for image classification   \n",
       "3      1338.0          ml optimization using cognitive assistant   \n",
       "4      1276.0          deploy your python model as a restful api   \n",
       "\n",
       "                                      email  \n",
       "0  ef5f11f77ba020cd36e1105a00ab868bbdbf7fe7  \n",
       "1  083cbdfa93c8444beaa4c5f5e0f5f9198e4f9e0b  \n",
       "2  b96a4f2e92d8572034b1e9b28f9ac673765cd074  \n",
       "3  06485706b34a5c9bf2a0ecdac41daf7e7654ceb7  \n",
       "4  f01220c46fc92c6e6b161b1849de11faacd7ccb2  "
      ]
     },
     "execution_count": 13,
     "metadata": {},
     "output_type": "execute_result"
    }
   ],
   "source": [
    "df.head()"
   ]
  },
  {
   "cell_type": "code",
   "execution_count": 14,
   "metadata": {
    "tags": []
   },
   "outputs": [],
   "source": [
    "# The number of unique articles that have at least one interaction\n",
    "if df.groupby(['article_id'])['email'].count().min() >= 1:\n",
    "    unique_articles = df.groupby(['article_id'])['email'].count().index.size\n",
    "\n",
    "# The number of unique articles on the IBM platform\n",
    "total_articles = df_content.article_id.unique().size\n",
    "\n",
    "# The number of unique users\n",
    "unique_users = df.email.unique().size # includes 1 null user.\n",
    "\n",
    "# The number of user-article interactions\n",
    "user_article_interactions = df.shape[0]"
   ]
  },
  {
   "cell_type": "code",
   "execution_count": 15,
   "metadata": {},
   "outputs": [
    {
     "name": "stdout",
     "output_type": "stream",
     "text": [
      "The number of unique articles that have at least one interaction is 714.\n",
      "The number of unique articles on the IBM platform is 1051.\n",
      "The number of unique users is 5149.\n",
      "The number of user-article interactions is 45993.\n"
     ]
    }
   ],
   "source": [
    "print(f'The number of unique articles that have at least one interaction is {unique_articles}.')\n",
    "print(f'The number of unique articles on the IBM platform is {total_articles}.')\n",
    "print(f'The number of unique users is {unique_users}.')\n",
    "print(f'The number of user-article interactions is {user_article_interactions}.')"
   ]
  },
  {
   "cell_type": "markdown",
   "metadata": {},
   "source": [
    "`4.` cells below show the most viewed **article_id**, as well as how often it was viewed."
   ]
  },
  {
   "cell_type": "code",
   "execution_count": 16,
   "metadata": {
    "tags": []
   },
   "outputs": [
    {
     "name": "stdout",
     "output_type": "stream",
     "text": [
      "The most viewed article was 1429 with 937 views.\n"
     ]
    }
   ],
   "source": [
    "# The most viewed article in the dataset as a string with one value following the decimal \n",
    "most_viewed_article_id = df.groupby(['article_id'])['email'].count()\\\n",
    "                                                            .sort_values(ascending=False)\\\n",
    "                                                            .index[0]\n",
    "        \n",
    "# The most viewed article in the dataset was viewed how many times?\n",
    "max_views = df.groupby(['article_id'])['email'].count()\\\n",
    "                                               .sort_values(ascending=False)\\\n",
    "                                               .astype(str)\\\n",
    "                                               .iloc[0]\n",
    "\n",
    "\n",
    "print(f'The most viewed article was {int(most_viewed_article_id)} with {max_views} views.')"
   ]
  },
  {
   "cell_type": "markdown",
   "metadata": {},
   "source": [
    "### UDACITY MAINTENCANCE FUNCTION AND GRADER\n",
    "---\n",
    "\n",
    "After talking to the company leaders, the `email_mapper` function was deemed a reasonable way to map users to ids.  There were a small number of null values, and it was found that all of these null values likely belonged to a single user (which is how they are stored using the function below)."
   ]
  },
  {
   "cell_type": "code",
   "execution_count": 17,
   "metadata": {},
   "outputs": [],
   "source": [
    "## UDACITY MAINTENANCE FUNCTION\n",
    "## No need to change the code here - this will be helpful for later parts of the notebook\n",
    "## Run this cell to map the user email to a user_id column and remove the email column\n",
    "\n",
    "def email_mapper():\n",
    "    coded_dict = dict()\n",
    "    cter = 1\n",
    "    email_encoded = []\n",
    "    \n",
    "    for val in df['email']:\n",
    "        if val not in coded_dict:\n",
    "            coded_dict[val] = cter\n",
    "            \n",
    "            cter += 1\n",
    "        \n",
    "        email_encoded.append(coded_dict[val])\n",
    "    return email_encoded\n",
    "\n",
    "email_encoded = email_mapper()\n",
    "del df['email']\n",
    "df['user_id'] = email_encoded"
   ]
  },
  {
   "cell_type": "code",
   "execution_count": 18,
   "metadata": {},
   "outputs": [
    {
     "name": "stdout",
     "output_type": "stream",
     "text": [
      "It looks like you have everything right here! Nice job!\n"
     ]
    }
   ],
   "source": [
    "sol_1_dict = {\n",
    "    '`50% of individuals have _____ or fewer interactions.`': median_val,\n",
    "    '`The total number of user-article interactions in the dataset is ______.`': user_article_interactions,\n",
    "    '`The maximum number of user-article interactions by any 1 user is ______.`': max_views_by_user,\n",
    "    '`The most viewed article in the dataset was viewed _____ times.`': int(max_views),\n",
    "    '`The article_id of the most viewed article is ______.`': str(most_viewed_article_id),\n",
    "    '`The number of unique articles that have at least 1 rating ______.`': unique_articles,\n",
    "    '`The number of unique users in the dataset is ______`': unique_users - 1, #  remove one null user\n",
    "    '`The number of unique articles on the IBM platform`': total_articles\n",
    "}\n",
    "\n",
    "# Test your dictionary against the solution\n",
    "t.sol_1_test(sol_1_dict)"
   ]
  },
  {
   "cell_type": "markdown",
   "metadata": {},
   "source": [
    "### <a class=\"anchor\" id=\"Rank\">Part II: Rank-Based Recommendations</a>\n",
    "---\n",
    "\n",
    "There are several ways to quantify the rank of an article. For the purpose of this project and given that the data provided by UDACITY does not contain a rating (as proxy for whether a user liked an article or not), I will quantify the **popularity of an article based on how often an article was interacted with**.\n",
    "\n",
    "`1.` The function below returns the **n** top articles ordered with most interactions as the top."
   ]
  },
  {
   "cell_type": "code",
   "execution_count": 19,
   "metadata": {},
   "outputs": [],
   "source": [
    "def get_top_articles(\n",
    "    n: int,\n",
    "    df: pd.DataFrame = df,\n",
    ") -> List[str]:\n",
    "    '''Return the n top article titles based on rank (ie most interactions).\n",
    "    \n",
    "    Parameters\n",
    "    ----------\n",
    "    n : int\n",
    "        The number of top articles to return.\n",
    "    df : pd.DataFrame \n",
    "        The df as defined at the top of the notebook.\n",
    "    \n",
    "    Returns\n",
    "    -------\n",
    "    top_articles : list\n",
    "        A list of the top 'n' article titles. \n",
    "    \n",
    "    '''\n",
    "    \n",
    "    # get the article ids\n",
    "    top_articles_id = df.groupby(['article_id'])['user_id'].count()\\\n",
    "                                                           .sort_values(ascending=False)\\\n",
    "                                                           .iloc[:n]\\\n",
    "                                                           .index\\\n",
    "                                                           .tolist()\n",
    "                                                           \n",
    "    # get the article titles\n",
    "    top_articles = df[df.article_id.isin(top_articles_id)].title\\\n",
    "                                                          .unique()\\\n",
    "                                                          .tolist()\n",
    "    \n",
    "    \n",
    "    return top_articles"
   ]
  },
  {
   "cell_type": "code",
   "execution_count": 20,
   "metadata": {},
   "outputs": [],
   "source": [
    "# Test your function by returning the top 5, 10, and 20 articles\n",
    "top_5 = get_top_articles(5)\n",
    "top_10 = get_top_articles(10)\n",
    "top_20 = get_top_articles(20)"
   ]
  },
  {
   "cell_type": "markdown",
   "metadata": {},
   "source": [
    "### UDACITY GRADER\n",
    "---"
   ]
  },
  {
   "cell_type": "code",
   "execution_count": 21,
   "metadata": {},
   "outputs": [
    {
     "name": "stdout",
     "output_type": "stream",
     "text": [
      "Your top_5 looks like the solution list! Nice job.\n",
      "Your top_10 looks like the solution list! Nice job.\n",
      "Your to_20 looks like the solution list! Nice job.\n"
     ]
    }
   ],
   "source": [
    "# Test each of your three lists from above\n",
    "t.sol_2_test(get_top_articles)"
   ]
  },
  {
   "cell_type": "markdown",
   "metadata": {},
   "source": [
    "### <a class=\"anchor\" id=\"User-User\">Part III: User-User Based Collaborative Filtering</a>\n",
    "---\n",
    "\n",
    "In order to implement user-user based collaborative filtering, I will consider whether an user interacted or not with an article. Other implementations could also consider the number of interactions or the rating of an individual article (for our current dataset, this information is missing). \n",
    "\n",
    "\n",
    "`1.` First, reformat the **df** dataframe to be shaped with users as the rows and articles as the columns. This implies:  \n",
    "\n",
    "* Each **user** should only appear in each **row** once.\n",
    "\n",
    "\n",
    "* Each **article** should only show up in one **column**.  \n",
    "\n",
    "\n",
    "* **If a user has interacted with an article, then place a 1 where the user-row meets for that article-column**.  It does not matter how many times a user has interacted with the article, all entries where a user has interacted with an article should be a 1.  \n",
    "\n",
    "\n",
    "* **If a user has not interacted with an item, then place a zero where the user-row meets for that article-column**. \n"
   ]
  },
  {
   "cell_type": "code",
   "execution_count": 22,
   "metadata": {},
   "outputs": [
    {
     "data": {
      "text/html": [
       "<div>\n",
       "<style scoped>\n",
       "    .dataframe tbody tr th:only-of-type {\n",
       "        vertical-align: middle;\n",
       "    }\n",
       "\n",
       "    .dataframe tbody tr th {\n",
       "        vertical-align: top;\n",
       "    }\n",
       "\n",
       "    .dataframe thead th {\n",
       "        text-align: right;\n",
       "    }\n",
       "</style>\n",
       "<table border=\"1\" class=\"dataframe\">\n",
       "  <thead>\n",
       "    <tr style=\"text-align: right;\">\n",
       "      <th></th>\n",
       "      <th>article_id</th>\n",
       "      <th>title</th>\n",
       "      <th>user_id</th>\n",
       "    </tr>\n",
       "  </thead>\n",
       "  <tbody>\n",
       "    <tr>\n",
       "      <th>0</th>\n",
       "      <td>1430.0</td>\n",
       "      <td>using pixiedust for fast, flexible, and easier...</td>\n",
       "      <td>1</td>\n",
       "    </tr>\n",
       "    <tr>\n",
       "      <th>1</th>\n",
       "      <td>1314.0</td>\n",
       "      <td>healthcare python streaming application demo</td>\n",
       "      <td>2</td>\n",
       "    </tr>\n",
       "    <tr>\n",
       "      <th>2</th>\n",
       "      <td>1429.0</td>\n",
       "      <td>use deep learning for image classification</td>\n",
       "      <td>3</td>\n",
       "    </tr>\n",
       "    <tr>\n",
       "      <th>3</th>\n",
       "      <td>1338.0</td>\n",
       "      <td>ml optimization using cognitive assistant</td>\n",
       "      <td>4</td>\n",
       "    </tr>\n",
       "    <tr>\n",
       "      <th>4</th>\n",
       "      <td>1276.0</td>\n",
       "      <td>deploy your python model as a restful api</td>\n",
       "      <td>5</td>\n",
       "    </tr>\n",
       "  </tbody>\n",
       "</table>\n",
       "</div>"
      ],
      "text/plain": [
       "   article_id                                              title  user_id\n",
       "0      1430.0  using pixiedust for fast, flexible, and easier...        1\n",
       "1      1314.0       healthcare python streaming application demo        2\n",
       "2      1429.0         use deep learning for image classification        3\n",
       "3      1338.0          ml optimization using cognitive assistant        4\n",
       "4      1276.0          deploy your python model as a restful api        5"
      ]
     },
     "execution_count": 22,
     "metadata": {},
     "output_type": "execute_result"
    }
   ],
   "source": [
    "df.head()"
   ]
  },
  {
   "cell_type": "code",
   "execution_count": 23,
   "metadata": {},
   "outputs": [],
   "source": [
    "# create the user-article matrix with 1's and 0's\n",
    "\n",
    "def create_user_item_matrix(df):\n",
    "    '''Returns a user-item matrix.\n",
    "    \n",
    "    The matrix contains user ids as rows and article ids on the columns\n",
    "    with 1 values where a user interacted with an article and a 0 otherwise.\n",
    "    \n",
    "    Parameters\n",
    "    ----------\n",
    "    df : pd.DataFrame\n",
    "        Dataframe with article_id, title, user_id columns.\n",
    "    \n",
    "    Returns\n",
    "    -------\n",
    "    user_item : pd.DataFrame\n",
    "        The user-item matrix.\n",
    "    '''\n",
    "    \n",
    "    # interactions any() 1 else 0\n",
    "    user_item = df.groupby(['user_id', 'article_id']).any()\\\n",
    "                                                     .unstack()\n",
    "    # not interactions counts as 0\n",
    "    user_item.fillna(value=0, inplace=True)\n",
    "    \n",
    "    # replace bool True with 1\n",
    "    user_item = user_item.astype(int)\n",
    "    \n",
    "    return user_item\n",
    "\n",
    "# Create user-item matrix of interations\n",
    "user_item = create_user_item_matrix(df)"
   ]
  },
  {
   "cell_type": "markdown",
   "metadata": {},
   "source": [
    "### UDACITY GRADER\n",
    "---"
   ]
  },
  {
   "cell_type": "code",
   "execution_count": 24,
   "metadata": {},
   "outputs": [
    {
     "name": "stdout",
     "output_type": "stream",
     "text": [
      "You have passed our quick tests!  Please proceed!\n"
     ]
    }
   ],
   "source": [
    "## Tests: You should just need to run this cell.  Don't change the code.\n",
    "assert user_item.shape[0] == 5149, \"Oops!  The number of users in the user-article matrix doesn't look right.\"\n",
    "assert user_item.shape[1] == 714, \"Oops!  The number of articles in the user-article matrix doesn't look right.\"\n",
    "assert user_item.sum(axis=1)[1] == 36, \"Oops!  The number of articles seen by user 1 doesn't look right.\"\n",
    "print(\"You have passed our quick tests!  Please proceed!\")"
   ]
  },
  {
   "cell_type": "markdown",
   "metadata": {},
   "source": [
    "`2.` Complete the function below which should take a user_id and provide an ordered list of the most similar users to that user (from most similar to least similar).  The returned result should not contain the provided user_id, as we know that each user is similar to him/herself. Because the results for each user here are binary, it (perhaps) makes sense to compute similarity as the dot product of two users. \n",
    "\n",
    "Use the tests to test your function."
   ]
  },
  {
   "cell_type": "code",
   "execution_count": 25,
   "metadata": {},
   "outputs": [],
   "source": [
    "def find_similar_users(\n",
    "    user_id: int,\n",
    "    user_item: pd.DataFrame = user_item,\n",
    ") -> List[int]:\n",
    "    '''Computes the similarity of every pair of users based on the dot product.\n",
    "    \n",
    "    Parameters\n",
    "    ----------\n",
    "    user_id : int\n",
    "        An user_id.\n",
    "    user_item : pd.DataFrame\n",
    "        The matrix of users-by-articles: \n",
    "               - 1's when a user has interacted with an article,\n",
    "               - 0 otherwise.\n",
    "    \n",
    "    Returns\n",
    "    -------\n",
    "    similar_users : list of int\n",
    "        An ordered list where the closest users with\n",
    "        the largest dot product are listed first.\n",
    "        \n",
    "    '''\n",
    "    # get the user_id vector with article interaction info\n",
    "    user_id_vector = user_item.loc[user_id, :]\n",
    "    \n",
    "    # Create dictionary to hold similarities with different users\n",
    "    user_sim = {}\n",
    "    \n",
    "    # for each user to compare with...\n",
    "    for user_2 in user_item.index:\n",
    "\n",
    "        # the it is the same user, continue to the next user\n",
    "        if user_id == user_2: \n",
    "            continue\n",
    "\n",
    "        else:\n",
    "            # get the user_2 vector with article interaction info\n",
    "            user_2_vector = user_item.loc[user_2, :]\n",
    "\n",
    "            # calculate dot product\n",
    "            dot = np.dot(user_id_vector, user_2_vector)\n",
    "\n",
    "            # add the result in the dictionary\n",
    "            user_sim[user_2] = dot\n",
    "    \n",
    "    # Build the similarities dataframe\n",
    "    temp_df = pd.DataFrame(\n",
    "        {'user1': [user_id] * len(user_sim.keys()),\n",
    "         'user2': user_sim.keys(),\n",
    "         'similarity': user_sim.values()})\n",
    "\n",
    "    # get sorted list of user_2 ids based on similarity\n",
    "    most_similar_users = temp_df.sort_values('similarity', ascending=False)\\\n",
    "                                .user2\\\n",
    "                                .to_list()\n",
    "    \n",
    "    # return a list of the users in order from most to least similar\n",
    "    return most_similar_users "
   ]
  },
  {
   "cell_type": "code",
   "execution_count": 26,
   "metadata": {},
   "outputs": [
    {
     "name": "stdout",
     "output_type": "stream",
     "text": [
      "The 10 most similar users to user 1 are: [3933, 23, 3782, 203, 4459, 3870, 131, 46, 4201, 395]\n",
      "The 5 most similar users to user 3933 are: [1, 23, 3782, 4459, 203]\n",
      "The 3 most similar users to user 46 are: [4201, 23, 3782]\n"
     ]
    }
   ],
   "source": [
    "# Quick check on the function\n",
    "print(\"The 10 most similar users to user 1 are: {}\".format(find_similar_users(1)[:10]))\n",
    "print(\"The 5 most similar users to user 3933 are: {}\".format(find_similar_users(3933)[:5]))\n",
    "print(\"The 3 most similar users to user 46 are: {}\".format(find_similar_users(46)[:3]))"
   ]
  },
  {
   "cell_type": "markdown",
   "metadata": {},
   "source": [
    "`3.` Now that the function that provides the most similar users to each user is ready, I can use these users to find articles you can recommend."
   ]
  },
  {
   "cell_type": "code",
   "execution_count": 27,
   "metadata": {},
   "outputs": [],
   "source": [
    "df['article_id'] = df['article_id'].astype(str)"
   ]
  },
  {
   "cell_type": "code",
   "execution_count": 28,
   "metadata": {},
   "outputs": [],
   "source": [
    "def get_article_names(\n",
    "    article_ids: List[str],\n",
    "    df: pd.DataFrame = df,\n",
    ") -> List[str]:\n",
    "    '''Returns the titles of the articles based on article ids.\n",
    "    \n",
    "    Parameters\n",
    "    ----------\n",
    "    article_ids : list of str\n",
    "        A list of article ids.\n",
    "    df : pd.DataFrame \n",
    "     The dataframe df as defined at the top of the notebook.\n",
    "    \n",
    "    Returns\n",
    "    -------\n",
    "    article_names - list of str\n",
    "        A list of article names associated with the list of article ids: \n",
    "            - this is identified by the title column.    \n",
    "    '''\n",
    "    \n",
    "    # get article names based on ids\n",
    "    article_names = df[df.article_id.isin(article_ids)]\\\n",
    "                                    .title\\\n",
    "                                    .unique()\n",
    "    \n",
    "    # Return the article names associated with list of article ids\n",
    "    return article_names \n",
    "\n",
    "\n",
    "def get_user_articles(\n",
    "    user_id: int,\n",
    "    user_item: pd.DataFrame = user_item,\n",
    ") -> Tuple[List[int], List[str]]:\n",
    "    '''Provides a list of the article_ids and article titles that have been seen by a user_id.\n",
    "    \n",
    "    Parameters\n",
    "    ----------\n",
    "    user_id : int \n",
    "    A user id\n",
    "    user_item - pd.DataFrame\n",
    "        Matrix of users by articles: \n",
    "                - 1's when a user has interacted with an article,\n",
    "                - 0 otherwise.\n",
    "    \n",
    "    Returns\n",
    "    -------\n",
    "    article_ids : list of int\n",
    "        A list of the article ids seen by the user.\n",
    "    article_names - list of str\n",
    "        A list of article names associated with the list of article ids. \n",
    "        This is identified by the doc_full_name column in df_content.\n",
    "    \n",
    "    '''\n",
    "    # condition to subset articles read by user\n",
    "    article_read_by_user = user_item.loc[user_id].isin([1])\n",
    "\n",
    "    # get articles id \n",
    "    article_ids = user_item.loc[user_id, article_read_by_user].unstack().columns.astype(str)\n",
    "\n",
    "    # get article names based on ids\n",
    "    article_names = get_article_names(article_ids, df=df)\n",
    "    \n",
    "    # return the ids and names\n",
    "    return article_ids, article_names \n",
    "\n",
    "\n",
    "def user_user_recs(\n",
    "    user_id: int,\n",
    "    m: int = 10,\n",
    ") -> List[str]:\n",
    "    '''Returns the recommendations for a specific user_id.\n",
    "    \n",
    "    Parameters\n",
    "    ----------\n",
    "    user_id : int\n",
    "        An user id.\n",
    "    m : int\n",
    "        The number of recommendations you want for the user.\n",
    "    \n",
    "    Returns\n",
    "    -------\n",
    "    recs : list of str \n",
    "        A list of recommendations for the user.\n",
    "    \n",
    "    Notes\n",
    "    -----\n",
    "    Loops through the users based on closeness to the input user_id.\n",
    "    For each user - finds articles the user hasn't seen before and provides them as recs.\n",
    "    Does this until m recommendations are found.\n",
    "    \n",
    "    \n",
    "    Users who are the same closeness are chosen arbitrarily as the 'next' user.\n",
    "    \n",
    "    For the user where the number of recommended articles starts below m \n",
    "    and ends exceeding m, the last items are chosen arbitrarily.\n",
    "    \n",
    "    '''\n",
    "    \n",
    "    # Calculate similarities\n",
    "    similar_users = find_similar_users(user_id, user_item=user_item)\n",
    "    \n",
    "    # get articles that user read\n",
    "    u1_article_ids, u1_article_names = get_user_articles(user_id, user_item=user_item)\n",
    "    \n",
    "    # instantiate list to hold recommendations\n",
    "    recs = []\n",
    "    \n",
    "    # go \n",
    "    for u2 in similar_users:\n",
    "        \n",
    "        # get u2 article ids\n",
    "        u2_article_ids, u2_article_names = get_user_articles(u2, user_item=user_item)\n",
    "        \n",
    "        # go over each article read by u2\n",
    "        for u2_article_id in u2_article_ids:\n",
    "            \n",
    "            # Check if articles are new to user1 \n",
    "            # and if they are already in recs\n",
    "            if (u2_article_id not in u1_article_ids)\\\n",
    "               and (u2_article_id not in recs):\n",
    "                \n",
    "                #append to recs if n recs below threshold\n",
    "                if len(recs) < m:\n",
    "   \n",
    "                    recs.append(str(u2_article_id))\n",
    "                else:\n",
    "                    break\n",
    "\n",
    "        # if enough recs terminate search\n",
    "        if len(recs) == m:\n",
    "            break\n",
    "    \n",
    "    # return your recommendations for this user_id\n",
    "    return recs "
   ]
  },
  {
   "cell_type": "code",
   "execution_count": 29,
   "metadata": {},
   "outputs": [
    {
     "data": {
      "text/plain": [
       "array(['got zip code data? prep it for analytics. – ibm watson data lab – medium',\n",
       "       'timeseries data analysis of iot events by using jupyter notebook',\n",
       "       'graph-based machine learning',\n",
       "       'using brunel in ipython/jupyter notebooks',\n",
       "       'experience iot with coursera',\n",
       "       'the 3 kinds of context: machine learning and the art of the frame',\n",
       "       'deep forest: towards an alternative to deep neural networks',\n",
       "       'this week in data science (april 18, 2017)',\n",
       "       'higher-order logistic regression for large datasets',\n",
       "       'using machine learning to predict parking difficulty'],\n",
       "      dtype=object)"
      ]
     },
     "execution_count": 29,
     "metadata": {},
     "output_type": "execute_result"
    }
   ],
   "source": [
    "# Return 10 recommendations for user 1\n",
    "get_article_names(user_user_recs(1, 10)) "
   ]
  },
  {
   "cell_type": "markdown",
   "metadata": {},
   "source": [
    "### UDACITY GRADER\n",
    "---"
   ]
  },
  {
   "cell_type": "code",
   "execution_count": 30,
   "metadata": {},
   "outputs": [
    {
     "name": "stdout",
     "output_type": "stream",
     "text": [
      "If this is all you see, you passed all of our tests!  Nice job!\n"
     ]
    }
   ],
   "source": [
    "# Test your functions here - No need to change this code - just run this cell\n",
    "assert set(get_article_names(['1024.0', '1176.0', '1305.0', '1314.0', '1422.0', '1427.0'])) == set(['using deep learning to reconstruct high-resolution audio', 'build a python app on the streaming analytics service', 'gosales transactions for naive bayes model', 'healthcare python streaming application demo', 'use r dataframes & ibm watson natural language understanding', 'use xgboost, scikit-learn & ibm watson machine learning apis']), \"Oops! Your the get_article_names function doesn't work quite how we expect.\"\n",
    "assert set(get_article_names(['1320.0', '232.0', '844.0'])) == set(['housing (2015): united states demographic measures','self-service data preparation with ibm data refinery','use the cloudant-spark connector in python notebook']), \"Oops! Your the get_article_names function doesn't work quite how we expect.\"\n",
    "assert set(get_user_articles(20)[0]) == set(['1320.0', '232.0', '844.0'])\n",
    "assert set(get_user_articles(20)[1]) == set(['housing (2015): united states demographic measures', 'self-service data preparation with ibm data refinery','use the cloudant-spark connector in python notebook'])\n",
    "assert set(get_user_articles(2)[0]) == set(['1024.0', '1176.0', '1305.0', '1314.0', '1422.0', '1427.0'])\n",
    "assert set(get_user_articles(2)[1]) == set(['using deep learning to reconstruct high-resolution audio', 'build a python app on the streaming analytics service', 'gosales transactions for naive bayes model', 'healthcare python streaming application demo', 'use r dataframes & ibm watson natural language understanding', 'use xgboost, scikit-learn & ibm watson machine learning apis'])\n",
    "print(\"If this is all you see, you passed all of our tests!  Nice job!\")"
   ]
  },
  {
   "cell_type": "markdown",
   "metadata": {},
   "source": [
    "`4.` The next step is to improve the consistency of the **user_user_recs** function from above. Some extra layers can be added to the recommender:\n",
    "\n",
    "* Instead of arbitrarily choosing when we obtain users who are all the same closeness to a given user - **choose the users that have the most total article interactions before** choosing those with fewer article interactions.\n",
    "\n",
    "\n",
    "* Instead of arbitrarily choosing articles from the user where the number of recommended articles starts below m and ends exceeding m, **choose articles with the articles with the most total interactions before** choosing those with fewer total interactions. This ranking should be  what would be obtained from the **top_articles** function you wrote earlier."
   ]
  },
  {
   "cell_type": "code",
   "execution_count": 31,
   "metadata": {},
   "outputs": [],
   "source": [
    "def get_top_sorted_users(\n",
    "    user_id: int,\n",
    "    df: pd.DataFrame = df,\n",
    "    user_item: pd.DataFrame = user_item,\n",
    ") -> pd.DataFrame:\n",
    "    '''Returns a dataframe with neighbor_id, similarity and num_interactions.\n",
    "    \n",
    "    Parameters\n",
    "    ----------\n",
    "    user_id : int\n",
    "        The id of the user.\n",
    "    df : pd.DataFrame\n",
    "        df as defined at the top of the notebook.\n",
    "    user_item : pd.DataFrame\n",
    "        A matrix of users by articles: \n",
    "            - 1's when a user has interacted with an article,\n",
    "            - 0 otherwise.\n",
    "            \n",
    "    Returns\n",
    "    -------\n",
    "    neighbors_df : pd.DataFrame\n",
    "        A dataframe with:\n",
    "            - neighbor_id: is a neighbor user_id\n",
    "            - similarity: measure of the similarity of each user to the provided user_id.\n",
    "            - num_interactions: the number of articles viewed by the user - if a u.\n",
    "                    \n",
    "    Notes\n",
    "    -----\n",
    "        neighbors_df is sorted by the similarity \n",
    "        and then by number of interactions where \n",
    "        highest of each is higher in the dataframe.\n",
    "     \n",
    "    '''\n",
    "    \n",
    "    # Get the interactions vector for user_id\n",
    "    user_id_vector = user_item.loc[user_id, :]\n",
    "    \n",
    "    user_sim = {}\n",
    "    interactions = []\n",
    "    \n",
    "    # for every user\n",
    "    for user_2 in user_item.index:\n",
    "\n",
    "        # the it is the same user, continue to the next\n",
    "        if user_id == user_2: \n",
    "            continue\n",
    "\n",
    "        else:\n",
    "            # get user_2 vector\n",
    "            user_2_vector = user_item.loc[user_2, :]\n",
    "\n",
    "            # calculate dot (ie similarity)\n",
    "            dot = np.dot(user_id_vector, user_2_vector)\n",
    "\n",
    "            # append the result in a dictionary\n",
    "            user_sim[user_2] = dot\n",
    "\n",
    "            # calculate interactions\n",
    "            n_interactions = df.groupby('user_id')['article_id'].count().loc[user_2]\n",
    "\n",
    "            # collect interactions\n",
    "            interactions.append(n_interactions)\n",
    "\n",
    "    neighbors_df = pd.DataFrame(\n",
    "        {'neighbor_id': user_sim.keys(),\n",
    "         'similarity': user_sim.values(),\n",
    "         'num_interactions': interactions},\n",
    "    ).sort_values(by=['similarity', 'num_interactions'], ascending=False)\n",
    "\n",
    "    # Return the dataframe specified in the doc_string\n",
    "    return neighbors_df \n",
    "\n",
    "\n",
    "def user_user_recs_part2(\n",
    "    user_id: int,\n",
    "    m: int = 10,\n",
    ") -> Tuple[List[int], List[str]]:\n",
    "    '''Returns the recommendations for a specific user_id.\n",
    "\n",
    "    Loops through the users based on closeness to the input user_id.\n",
    "    For each user - finds articles the user hasn't seen before\n",
    "    and provides them as recs. \n",
    "    Does this until m recommendations are found.\n",
    "    \n",
    "    Parameters\n",
    "    ----------\n",
    "    user_id : int\n",
    "        An user id.\n",
    "    m : int \n",
    "        The number of recommendations you want for the user.\n",
    "    \n",
    "    Returns\n",
    "    -------\n",
    "    recs : list\n",
    "        A list of recommendations for the user by article id.\n",
    "    rec_names : list\n",
    "        A list of recommendations for the user by article title.\n",
    "    \n",
    "    Notes\n",
    "    -----\n",
    "    Choose the users that have the most total article interactions \n",
    "        before choosing those with fewer article interactions.\n",
    "\n",
    "    Choose articles with the articles with the most total interactions \n",
    "        before choosing those with fewer total interactions. \n",
    "    '''\n",
    "    \n",
    "    # Calculate similarities\n",
    "    similarity_df = get_top_sorted_users(user_id, user_item=user_item)\n",
    "    \n",
    "    # get articles that user read\n",
    "    u1_article_ids, u1_article_names = get_user_articles(user_id, user_item=user_item)\n",
    "    \n",
    "    # create recommendations\n",
    "    recs = []\n",
    "    \n",
    "    # go \n",
    "    for u2 in similarity_df.neighbor_id:\n",
    "        \n",
    "        # get u2 article ids\n",
    "        u2_article_ids, u2_article_names = get_user_articles(u2, user_item=user_item)\n",
    "        \n",
    "        # go over each article read by u2\n",
    "        for u2_article_id in u2_article_ids:\n",
    "            \n",
    "           \n",
    "            if (u2_article_id not in u1_article_ids)\\\n",
    "               and (u2_article_id not in recs):\n",
    "                \n",
    "                #append to recs if n recs below threshold\n",
    "                if len(recs) < m:\n",
    "   \n",
    "                    recs.append(str(u2_article_id))\n",
    "                else:\n",
    "                    break\n",
    "\n",
    "        # if enough recs, then terminate search\n",
    "        if len(recs) == m:\n",
    "            break\n",
    "        \n",
    "    rec_names = get_article_names(recs)\n",
    "    \n",
    "    return recs, rec_names"
   ]
  },
  {
   "cell_type": "code",
   "execution_count": 32,
   "metadata": {},
   "outputs": [
    {
     "name": "stdout",
     "output_type": "stream",
     "text": [
      "The top 10 recommendations for user 20 are the following article ids:\n",
      "['12.0', '109.0', '125.0', '142.0', '164.0', '205.0', '302.0', '336.0', '362.0', '465.0'] \n",
      "\n",
      "The top 10 recommendations for user 20 are the following article names:\n",
      "['timeseries data analysis of iot events by using jupyter notebook'\n",
      " 'dsx: hybrid mode' 'accelerate your workflow with dsx'\n",
      " 'learn tensorflow and deep learning together and now!'\n",
      " \"a beginner's guide to variational methods\" 'tensorflow quick tips'\n",
      " 'challenges in deep learning'\n",
      " 'neural networks for beginners: popular types and applications'\n",
      " 'statistics for hackers'\n",
      " 'introduction to neural networks, advantages and applications']\n"
     ]
    }
   ],
   "source": [
    "# Quick spot check\n",
    "user_id = 20\n",
    "n_recs = 10\n",
    "\n",
    "rec_ids, rec_names = user_user_recs_part2(user_id, n_recs)\n",
    "\n",
    "print(f\"The top {n_recs} recommendations for user {user_id} are the following article ids:\")\n",
    "print(rec_ids, '\\n')\n",
    "print(f\"The top {n_recs} recommendations for user {user_id} are the following article names:\")\n",
    "print(rec_names)"
   ]
  },
  {
   "cell_type": "markdown",
   "metadata": {},
   "source": [
    "### UDACITY GRADER\n",
    "---\n",
    "`5.` Verify the validity of the recommender."
   ]
  },
  {
   "cell_type": "code",
   "execution_count": 33,
   "metadata": {},
   "outputs": [],
   "source": [
    "# Find the user that is most similar to user 1 \n",
    "user1_most_sim = get_top_sorted_users(user_id=1, df=df, user_item=user_item)['neighbor_id'].to_list()[0] "
   ]
  },
  {
   "cell_type": "code",
   "execution_count": 34,
   "metadata": {},
   "outputs": [],
   "source": [
    "# Find the 10th most similar user to user 131\n",
    "user131_10th_sim = get_top_sorted_users(user_id=131, df=df, user_item=user_item)['neighbor_id'].to_list()[9]"
   ]
  },
  {
   "cell_type": "code",
   "execution_count": 35,
   "metadata": {},
   "outputs": [
    {
     "name": "stdout",
     "output_type": "stream",
     "text": [
      "This all looks good!  Nice job!\n"
     ]
    }
   ],
   "source": [
    "sol_5_dict = {\n",
    "    'The user that is most similar to user 1.': user1_most_sim, \n",
    "    'The user that is the 10th most similar to user 131': user131_10th_sim,\n",
    "}\n",
    "\n",
    "t.sol_5_test(sol_5_dict)"
   ]
  },
  {
   "cell_type": "markdown",
   "metadata": {},
   "source": [
    "`6.` What about **new users**? Which of the above functions would be able to use to make recommendations?"
   ]
  },
  {
   "cell_type": "markdown",
   "metadata": {},
   "source": [
    "Collaborative filtering is a powerful method to provide recommendations based on similarities between users. However this system does not work for new users since there will be no similarity (at least in the very beginning) with other users. Therefore, one way to bypass this _\"cold start problem\"_ would be to provide recommendations based on popularity (ie **Rand-based recommendations**) of articles among all users.\n"
   ]
  },
  {
   "cell_type": "markdown",
   "metadata": {},
   "source": [
    "`7.` Let's Provide the top 10 recommended articles for the a new putative user below. "
   ]
  },
  {
   "cell_type": "code",
   "execution_count": 36,
   "metadata": {},
   "outputs": [
    {
     "name": "stdout",
     "output_type": "stream",
     "text": [
      "The recommendations for new user 0.0 are:\n",
      "1314.0 >>> healthcare python streaming application demo      \n",
      "1429.0 >>> use deep learning for image classification        \n",
      "1170.0 >>> apache spark lab, part 1: basic concepts          \n",
      "1364.0 >>> predicting churn with the spss random tree algorithm\n",
      "1162.0 >>> analyze energy consumption in buildings           \n",
      "1431.0 >>> visualize car data with brunel                    \n",
      "1427.0 >>> use xgboost, scikit-learn & ibm watson machine learning apis\n",
      "1304.0 >>> gosales transactions for logistic regression model\n",
      "1330.0 >>> insights from new york car accident reports       \n",
      "1293.0 >>> finding optimal locations of new store using decision optimization\n"
     ]
    }
   ],
   "source": [
    "new_user = '0.0'\n",
    "\n",
    "# Get rank-based recommendations for user \"0.0\"\n",
    "new_user_recs_article_names = get_top_articles(10)\n",
    "\n",
    "# get article ids\n",
    "new_user_recs = df[df.title.isin(get_top_articles(10))].article_id.unique()\n",
    "\n",
    "print(f'The recommendations for new user {new_user} are:', )\n",
    "for idx, rec in zip(new_user_recs, new_user_recs_article_names):\n",
    "    print(f'{idx: <6} >>> {rec:<50}')"
   ]
  },
  {
   "cell_type": "markdown",
   "metadata": {},
   "source": [
    "### UDACITY GRADER\n",
    "---"
   ]
  },
  {
   "cell_type": "code",
   "execution_count": 37,
   "metadata": {},
   "outputs": [
    {
     "name": "stdout",
     "output_type": "stream",
     "text": [
      "That's right!  Nice job!\n"
     ]
    }
   ],
   "source": [
    "new_user_recs_article_ids = df[df.title.isin(new_user_recs)].article_id.unique().astype(str)\n",
    "\n",
    "assert set(new_user_recs) == set(['1314.0','1429.0','1293.0','1427.0','1162.0','1364.0','1304.0','1170.0','1431.0','1330.0']), \"Oops!  It makes sense that in this case we would want to recommend the most popular articles, because we don't know anything about these users.\"\n",
    "\n",
    "print(\"That's right!  Nice job!\")"
   ]
  },
  {
   "cell_type": "markdown",
   "metadata": {},
   "source": [
    "### <a class=\"anchor\" id=\"Matrix-Fact\">Part IV: Matrix Factorization</a>\n",
    "---\n",
    "\n",
    "Matrix Factorization is a power technique to make recommendations to the users on the IBM Watson Studio platform.\n",
    "\n",
    "`1.` This first question here will just require to run the cells below to get things set up for the rest of **Part V** of the notebook. "
   ]
  },
  {
   "cell_type": "code",
   "execution_count": 38,
   "metadata": {},
   "outputs": [
    {
     "data": {
      "text/plain": [
       "(5149, 714)"
      ]
     },
     "execution_count": 38,
     "metadata": {},
     "output_type": "execute_result"
    }
   ],
   "source": [
    "# Load matrix\n",
    "user_item_matrix = pd.read_pickle('data/user_item_matrix.p')\n",
    "\n",
    "# quick look at the matrix\n",
    "user_item_matrix.shape"
   ]
  },
  {
   "cell_type": "markdown",
   "metadata": {},
   "source": [
    "`2.` First, let's use Singular Value Decomposition from [numpy](https://docs.scipy.org/doc/numpy-1.14.0/reference/generated/numpy.linalg.svd.html) on the user-item matrix.  \n",
    "**[Udacity Question]** - Explain why this is different than in the lesson."
   ]
  },
  {
   "cell_type": "code",
   "execution_count": 39,
   "metadata": {},
   "outputs": [],
   "source": [
    "# Perform SVD on the User-Item Matrix Here\n",
    "\n",
    "u, s, vt = np.linalg.svd(user_item_matrix, full_matrices=False) # use the built in to get the three matrices"
   ]
  },
  {
   "cell_type": "markdown",
   "metadata": {},
   "source": [
    "In this specific example, our data matrix is filled with binary inputs (1 for interaction, 0 for no interaction) and therefore there are no missing values. The presence of all values, even in highly sparse matrices is a precodition to use Single Value Decomposition.\n",
    "\n",
    "In the lesson, the data matrix used to build the user-item matrix contained ratings and during aggregation of data, some of the values where absent due of the lack of reviews of a specific item by a specific user. Because the sparse matrix contanined NaNs, the usage of traditional Single Value Decomposition became imposssible. "
   ]
  },
  {
   "cell_type": "markdown",
   "metadata": {},
   "source": [
    "`3.` How do we choose the number of latent features to use?  Running the below cell, we can see that as the number of latent features increases, we obtain a lower error rate on making predictions for the 1 and 0 values in the user-item matrix.   \n",
    "\n",
    "Run the cell below to get an idea of how the accuracy improves as we increase the number of latent features."
   ]
  },
  {
   "cell_type": "code",
   "execution_count": 40,
   "metadata": {},
   "outputs": [],
   "source": [
    "num_latent_feats = np.arange(start=10, stop=700+10, step=20)\n",
    "sum_errs = []\n",
    "acc = [] # Accuracy sklearn\n",
    "\n",
    "for k in num_latent_feats:\n",
    "    \n",
    "    # restructure with k latent features\n",
    "    s_new, u_new, vt_new = np.diag(s[:k]), u[:, :k], vt[:k, :]\n",
    "    \n",
    "    # take dot product\n",
    "    user_item_est = np.around(np.dot(np.dot(u_new, s_new), vt_new))\n",
    "    \n",
    "    # compute error for each prediction to actual value\n",
    "    diffs = np.subtract(user_item_matrix, user_item_est)\n",
    "    \n",
    "    # total errors and keep track of them\n",
    "    err = np.sum(np.sum(np.abs(diffs)))\n",
    "    accucary = accuracy_score(user_item_matrix.to_numpy().flatten(), user_item_est.flatten())\n",
    "    \n",
    "    sum_errs.append(err)\n",
    "    acc.append(accucary)"
   ]
  },
  {
   "cell_type": "code",
   "execution_count": 41,
   "metadata": {},
   "outputs": [
    {
     "data": {
      "image/png": "[encoded data removed]",
      "text/plain": [
       "<Figure size 432x288 with 1 Axes>"
      ]
     },
     "metadata": {
      "needs_background": "light"
     },
     "output_type": "display_data"
    }
   ],
   "source": [
    "fig, ax = plt.subplots()    \n",
    "\n",
    "ax.plot(\n",
    "    num_latent_feats,\n",
    "    acc,\n",
    ");\n",
    "\n",
    "ax.set(\n",
    "    xlabel='Number of Latent Features',\n",
    "    ylabel='Accuracy',\n",
    "    title='Accuracy vs. Number of Latent Features',\n",
    ");\n"
   ]
  },
  {
   "cell_type": "markdown",
   "metadata": {},
   "source": [
    "`4.` From the above, it is difficult to be sure about how many features to use, because simply having a better way to predict the 1's and 0's of the matrix doesn't exactly give us an indication of if we are able to make good recommendations.\n",
    "\n",
    "Another strategy is to implement a division of the dataset into training and testing subsets and perform decomposition on the training with increasing number of latent features and evaluate the result on the test subset. \n"
   ]
  },
  {
   "cell_type": "code",
   "execution_count": 42,
   "metadata": {},
   "outputs": [],
   "source": [
    "# divive the main dataframe into train and test subsets\n",
    "df_train = df.head(40000)\n",
    "df_test = df.tail(5993)\n",
    "\n",
    "def create_test_and_train_user_item(df_train, df_test):\n",
    "    '''Split user-item matrix into train and test sets.\n",
    "    \n",
    "    Parameters\n",
    "    ----------\n",
    "    df_train : pd.DataFrame\n",
    "        Training dataframe\n",
    "    df_test : pd.DataFrame\n",
    "        Test dataframe\n",
    "    \n",
    "    Returns\n",
    "    -------\n",
    "    user_item_train : pd.DataFrame\n",
    "        A user-item matrix of the training dataframe with\n",
    "        unique users for each row and unique articles for each column.\n",
    "    user_item_test : pd.DataFrame\n",
    "        A user-item matrix of the testing dataframe \n",
    "        unique users for each row and unique articles for each column.    \n",
    "    test_idx : np.array\n",
    "        All of the test user ids.   \n",
    "    test_arts : np.array\n",
    "        All of the test article ids.\n",
    "    \n",
    "    '''\n",
    "    \n",
    "    user_item_train = create_user_item_matrix(df_train)\n",
    "    \n",
    "    user_item_test = create_user_item_matrix(df_test)\n",
    "    \n",
    "    test_idx = user_item_test.index\n",
    "    \n",
    "    test_arts = user_item_test.columns.get_level_values(1)\n",
    "    \n",
    "    \n",
    "    return user_item_train, user_item_test, test_idx, test_arts\n",
    "\n",
    "\n",
    "user_item_train, user_item_test, test_idx, test_arts = create_test_and_train_user_item(df_train, df_test)"
   ]
  },
  {
   "cell_type": "markdown",
   "metadata": {},
   "source": [
    "`Q4.1` How many users can we make predictions for in the test set?  "
   ]
  },
  {
   "cell_type": "code",
   "execution_count": 43,
   "metadata": {},
   "outputs": [
    {
     "name": "stdout",
     "output_type": "stream",
     "text": [
      "We can make predictions for 20 users in the test dataset.\n"
     ]
    }
   ],
   "source": [
    "answer4_1 = user_item_train.index.isin(test_idx).sum()\n",
    "\n",
    "print(f'We can make predictions for {answer4_1} users in the test dataset.')"
   ]
  },
  {
   "cell_type": "markdown",
   "metadata": {},
   "source": [
    "##### `Q4.2` How many users are we not able to make predictions for because of the cold start problem?"
   ]
  },
  {
   "cell_type": "code",
   "execution_count": 44,
   "metadata": {},
   "outputs": [
    {
     "name": "stdout",
     "output_type": "stream",
     "text": [
      "We cannot make predictions for 662 users in the test dataset.\n"
     ]
    }
   ],
   "source": [
    "answer4_2 = user_item_test.index.unique().size - answer4_1\n",
    "\n",
    "print(f'We cannot make predictions for {answer4_2} users in the test dataset.')"
   ]
  },
  {
   "cell_type": "markdown",
   "metadata": {},
   "source": [
    "##### `Q4.3` How many articles can we make predictions for in the test set?    \n",
    "*In other words, how many articles of the test dataset are contained in the train dataset?*"
   ]
  },
  {
   "cell_type": "code",
   "execution_count": 45,
   "metadata": {},
   "outputs": [
    {
     "name": "stdout",
     "output_type": "stream",
     "text": [
      "We are able to make predictions for 574 articles.\n"
     ]
    }
   ],
   "source": [
    "answer4_3 = user_item_train.columns.get_level_values(1)\\\n",
    "                                   .isin(test_arts)\\\n",
    "                                   .sum()\n",
    "\n",
    "print(f'We are able to make predictions for {answer4_3} articles.')"
   ]
  },
  {
   "cell_type": "markdown",
   "metadata": {},
   "source": [
    "##### `Q4.4` How many articles are we not able to make predictions for because of the cold start problem? \n"
   ]
  },
  {
   "cell_type": "code",
   "execution_count": 46,
   "metadata": {},
   "outputs": [
    {
     "name": "stdout",
     "output_type": "stream",
     "text": [
      "We are NOT able to make predictions for 0 articles.\n"
     ]
    }
   ],
   "source": [
    "answer4_4 = user_item_test.columns.get_level_values(1).size - answer4_3\n",
    "\n",
    "print(f'We are NOT able to make predictions for {answer4_4} articles.')"
   ]
  },
  {
   "cell_type": "markdown",
   "metadata": {},
   "source": [
    "### UDACITY GRADER\n",
    "---"
   ]
  },
  {
   "cell_type": "code",
   "execution_count": 47,
   "metadata": {},
   "outputs": [
    {
     "name": "stdout",
     "output_type": "stream",
     "text": [
      "Awesome job!  That's right!  All of the test movies are in the training data, but there are only 20 test users that were also in the training set.  All of the other users that are in the test set we have no data on.  Therefore, we cannot make predictions for these users using SVD.\n"
     ]
    }
   ],
   "source": [
    "a = 662 \n",
    "b = 574 \n",
    "c = 20 \n",
    "d = 0 \n",
    "\n",
    "sol_4_dict = {\n",
    "    'How many users can we make predictions for in the test set?': c,\n",
    "    'How many users in the test set are we not able to make predictions for because of the cold start problem?': a, \n",
    "    'How many articles can we make predictions for in the test set?': b,\n",
    "    'How many articles in the test set are we not able to make predictions for because of the cold start problem?': d\n",
    "}\n",
    "\n",
    "t.sol_4_test(sol_4_dict)"
   ]
  },
  {
   "cell_type": "markdown",
   "metadata": {},
   "source": [
    "`5.` Now let's use the **user_item_train** dataset from above to find U, S, and V transpose using SVD.   \n",
    "\n",
    "To find the appropriate number of latent features necessary to provide good results on the test set, we can: \n",
    "\n",
    "1 - find the subset of rows in the **user_item_test** dataset that you can predict using this matrix decomposition with different numbers of latent features to see how many features makes sense to keep based on the accuracy on the test data. This will require combining what was done in questions `2` - `4`.\n",
    "\n",
    "**How well SVD works towards making predictions for recommendations on the test data?**"
   ]
  },
  {
   "cell_type": "code",
   "execution_count": 48,
   "metadata": {},
   "outputs": [],
   "source": [
    "# fit SVD on the user_item_train matrix\n",
    "u_train, s_train, vt_train = np.linalg.svd(user_item_train, full_matrices=False)"
   ]
  },
  {
   "cell_type": "code",
   "execution_count": 49,
   "metadata": {},
   "outputs": [],
   "source": [
    "# find common ids in train and test (ie ROWs)\n",
    "common_ids = user_item_train.index[user_item_train.index.isin(test_idx)]\n",
    "\n",
    "# get conditions to subset user_item_test matrix\n",
    "test_row_bool = user_item_test.index.isin(common_ids)\n",
    "train_row_bool = user_item_train.index.isin(common_ids)\n",
    "\n",
    "# Subset columns\n",
    "train_columns_bool = user_item_train.columns.get_level_values(1).isin(test_arts)"
   ]
  },
  {
   "cell_type": "code",
   "execution_count": 50,
   "metadata": {},
   "outputs": [],
   "source": [
    "num_latent_feats = np.arange(10,700+10,20)\n",
    "\n",
    "# Absolute error scores\n",
    "sum_errs_train = []\n",
    "sum_errs_test = []\n",
    "\n",
    "# Accuracy scores\n",
    "score_train = []\n",
    "score_test = []\n",
    "\n",
    "for k in num_latent_feats:\n",
    "    \n",
    "    # restructure with k latent features\n",
    "    s_new, u_new, vt_new = np.diag(s_train[:k]), u_train[:, :k], vt_train[:k, :]\n",
    "    \n",
    "    # take dot product\n",
    "    user_item_est_train_est = np.around(np.dot(np.dot(u_new, s_new), vt_new))\n",
    "    \n",
    "    # compute error for each prediction to actual value\n",
    "    train_sub_est = user_item_est_train_est[train_row_bool][:, train_columns_bool]\n",
    "    \n",
    "    # subset matrices for common users/common articles\n",
    "    test_sub = user_item_test.to_numpy()[test_row_bool, :]\n",
    "    train_sub = user_item_train.to_numpy()[train_row_bool][:, train_columns_bool]\n",
    "    \n",
    "    diffs_train = np.subtract(train_sub, train_sub_est)\n",
    "    diff_test = np.subtract(test_sub, train_sub_est)\n",
    "    \n",
    "    # Calculate total error and store it\n",
    "    # Absolute error\n",
    "    err_train = np.sum(np.abs(diffs_train))\n",
    "    err_test = np.sum(np.abs(diff_test))\n",
    "    \n",
    "    # Accurary\n",
    "    score_train.append(accuracy_score(train_sub.flatten(), train_sub_est.flatten()))\n",
    "    score_test.append(accuracy_score(test_sub.flatten(), train_sub_est.flatten()))\n",
    "    \n",
    "    sum_errs_train.append(err_train)\n",
    "    sum_errs_test.append(err_test)\n"
   ]
  },
  {
   "cell_type": "markdown",
   "metadata": {},
   "source": [
    "What is the impact on accuracy of the training and test sets of data with different numbers of latent features?"
   ]
  },
  {
   "cell_type": "code",
   "execution_count": 51,
   "metadata": {},
   "outputs": [
    {
     "data": {
      "image/png": "[encoded data removed]",
      "text/plain": [
       "<Figure size 432x288 with 1 Axes>"
      ]
     },
     "metadata": {
      "needs_background": "light"
     },
     "output_type": "display_data"
    }
   ],
   "source": [
    "fig, ax = plt.subplots()\n",
    "\n",
    "ax.plot(\n",
    "    num_latent_feats,\n",
    "    score_train,\n",
    "    label='train'\n",
    ");\n",
    "ax.plot(\n",
    "    num_latent_feats,\n",
    "    score_test,\n",
    "    label='test'\n",
    "\n",
    ")\n",
    "\n",
    "ax.set(\n",
    "    xlabel='Number of Latent Features',\n",
    "    ylabel='Accuracy',\n",
    "    title='Accuracy vs. Number of Latent Features',\n",
    ");\n",
    "\n",
    "plt.legend();"
   ]
  },
  {
   "cell_type": "markdown",
   "metadata": {},
   "source": [
    "### <a class=\"anchor\" id=\"conclusion\">Part V: Conclusions, Actions and Future Directions</a>\n",
    "\n",
    "---"
   ]
  },
  {
   "cell_type": "markdown",
   "metadata": {},
   "source": [
    "Our plot shows that we are able to get accurate predictions on the **training dataset** when we use an increasingly high number of latent features.\n",
    "\n",
    "However, when we evaluate our method with the **test dataset**, we can see that the performance decreases with an increasingly higher number of features. Because we have only 20 users and a highly imbalanced dataset (far more negative class compared to positive), we would need to **increase the number of users and article interactions in our dataset** in order to have better results.\n",
    "\n",
    "**Current issues and challenges**\n",
    "\n",
    "\n",
    "A fundamental issue with the dataset and approach used in this section (Matrix factorization and SVD) is that we do not have information about whether users like the article or not (i.e. no rating), and we also do not consider the total number of interactions (only interaction vs no interaction). \n",
    "Therefore __we have no information about whether the recommendations are useful or relevant__. \n",
    "\n",
    "**Actionable Items and Future Directions** \n",
    "\n",
    "* Start by deploying the User-User Based Collaborative Filtering for existing users and Rank-based recommendations for new users.\n",
    "* Evaluate current solutions (Rank-based and User-User Collaborative Filtering) with a A/B TEST, comparing the number of interactions for users before and after deplyoing the solution. A good recommender should lead to an increase of the number of interactions for users.\n",
    "* Ask quantitative user feedback (e.g. a rating from 1-10) in the environment where the recommender is deployed. \n",
    "* Combine new user rating information and total number of interactions in a single, ensemble system to make more reliable recommendations. "
   ]
  },
  {
   "cell_type": "code",
   "execution_count": null,
   "metadata": {},
   "outputs": [],
   "source": [
    "# To generate an html view of this notebook\n",
    "! python -m nbconvert --to html Recommendations_with_IBM.ipynb"
   ]
  },
  {
   "cell_type": "markdown",
   "metadata": {},
   "source": [
    "---\n",
    "2021 - [Jose Oliveira da Cruz](https://github.com/joseferncruz)"
   ]
  }
 ],
 "metadata": {
  "kernelspec": {
   "display_name": "Python 3 (ipykernel)",
   "language": "python",
   "name": "python3"
  },
  "language_info": {
   "codemirror_mode": {
    "name": "ipython",
    "version": 3
   },
   "file_extension": ".py",
   "mimetype": "text/x-python",
   "name": "python",
   "nbconvert_exporter": "python",
   "pygments_lexer": "ipython3",
   "version": "3.8.12"
  }
 },
 "nbformat": 4,
 "nbformat_minor": 4
}
